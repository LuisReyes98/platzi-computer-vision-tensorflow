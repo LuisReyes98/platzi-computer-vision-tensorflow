{
  "cells": [
    {
      "cell_type": "markdown",
      "metadata": {
        "id": "QgXSKcVG3pH9"
      },
      "source": [
        "## Importamos librerías"
      ]
    },
    {
      "cell_type": "code",
      "execution_count": null,
      "metadata": {
        "colab": {
          "base_uri": "https://localhost:8080/"
        },
        "id": "_vRsP8Msqb9n",
        "outputId": "68345178-77c3-4940-dc63-06cddd1a97ee"
      },
      "outputs": [
        {
          "name": "stdout",
          "output_type": "stream",
          "text": [
            "Requirement already satisfied: tf_slim in /usr/local/lib/python3.7/dist-packages (1.1.0)\n",
            "Requirement already satisfied: absl-py>=0.2.2 in /usr/local/lib/python3.7/dist-packages (from tf_slim) (0.12.0)\n",
            "Requirement already satisfied: six in /usr/local/lib/python3.7/dist-packages (from absl-py>=0.2.2->tf_slim) (1.15.0)\n"
          ]
        }
      ],
      "source": [
        "import json\n",
        "import pickle\n",
        "import zipfile\n",
        "\n",
        "!pip install tf_slim"
      ]
    },
    {
      "cell_type": "code",
      "execution_count": null,
      "metadata": {
        "id": "pZRwppVPqgpO"
      },
      "outputs": [],
      "source": [
        "import pandas as pd"
      ]
    },
    {
      "cell_type": "markdown",
      "metadata": {
        "id": "LVpjlg8W3r2m"
      },
      "source": [
        "## Descomprimimos la base de datos original"
      ]
    },
    {
      "cell_type": "code",
      "execution_count": null,
      "metadata": {
        "id": "6oAm5rYiqhv8"
      },
      "outputs": [],
      "source": [
        "local_zip = \"/content/dataset_original.zip\"\n",
        "zip_ref = zipfile.ZipFile(local_zip, \"r\")\n",
        "zip_ref.extractall(\"dataset_original\")\n",
        "zip_ref.close()"
      ]
    },
    {
      "cell_type": "markdown",
      "metadata": {
        "id": "RiSyBMC13vQq"
      },
      "source": [
        "# JSON to CSV\n",
        "## Definimos la ruta de nuestro archivo JSON\n",
        "Este proceso se debe repetir con training y test"
      ]
    },
    {
      "cell_type": "code",
      "execution_count": null,
      "metadata": {
        "id": "gZFHlRwgqizT"
      },
      "outputs": [],
      "source": [
        "type_file = \"train\"\n",
        "path = \"/content/train.json\"\n",
        "data_file = open(path)\n",
        "data = json.load(data_file)"
      ]
    },
    {
      "cell_type": "markdown",
      "metadata": {
        "id": "7LBP178Z3zM2"
      },
      "source": [
        "#### Definimos la estructura del JSON de origen y de las variables relevantes que debemos guardar en el CSV"
      ]
    },
    {
      "cell_type": "code",
      "execution_count": null,
      "metadata": {
        "id": "wnzVC3FmqkKL"
      },
      "outputs": [],
      "source": [
        "csv_list = []\n",
        "'''\n",
        "Recorremos la estructura del archivo json, extrayendo las variables relevantes\n",
        "1. Clase\n",
        "2. Bounding box (x inicial, y inicial, x final, y final)\n",
        "3. Ancho y alto de la imagen.\n",
        "4. Nombre del archivo.\n",
        "'''\n",
        "for classification in data:\n",
        "  width, height = classification['width'], classification['height']\n",
        "  image = classification['image']\n",
        "  for item in classification['tags']:\n",
        "    name = item['name']\n",
        "    xmin = item['pos']['x']\n",
        "    ymin = item['pos']['y']\n",
        "    xmax = item['pos']['x'] + item['pos']['w']\n",
        "    ymax = item['pos']['y'] + item['pos']['h']\n",
        "\n",
        "    value = (image, width, height, name, xmin, ymin, xmax, ymax)\n",
        "    csv_list.append(value)\n",
        "\n",
        "# Al final lo almacenamos en un CSV con el nombre de las columnas siguiente\n",
        "column_name = ['filename', 'width', 'height', 'class', 'xmin', 'ymin', 'xmax', 'ymax']\n",
        "csv_df = pd.DataFrame(csv_list, columns = column_name)\n",
        "\n",
        "# Convertimos el dataframe a CSV\n",
        "csv_df.to_csv(\"/content/{}_labels.csv\".format(type_file))"
      ]
    },
    {
      "cell_type": "code",
      "execution_count": null,
      "metadata": {},
      "outputs": [],
      "source": [
        "import json\n",
        "import pandas as pd\n",
        "\n",
        "# Load the JSON file\n",
        "with open('coco.json') as f:\n",
        "    data = json.load(f)\n",
        "\n",
        "# Initialize an empty list to store the data\n",
        "csv_list = []\n",
        "\n",
        "# Loop through the annotations\n",
        "for annotation in data['annotations']:\n",
        "    image_id = annotation['image_id']\n",
        "    category_id = annotation['category_id']\n",
        "    bbox = annotation['bbox']  # [xmin, ymin, width, height]\n",
        "\n",
        "    # Convert COCO bbox format to [xmin, ymin, xmax, ymax]\n",
        "    xmin, ymin, width, height = bbox\n",
        "    xmax = xmin + width\n",
        "    ymax = ymin + height\n",
        "\n",
        "    # Append the data to the list\n",
        "    csv_list.append([image_id, category_id, xmin, ymin, xmax, ymax])\n",
        "\n",
        "# Convert the list to a DataFrame\n",
        "column_names = ['image_id', 'category_id', 'xmin', 'ymin', 'xmax', 'ymax']\n",
        "csv_df = pd.DataFrame(csv_list, columns=column_names)\n",
        "\n",
        "# Convert the DataFrame to a CSV file\n",
        "csv_df.to_csv('coco.csv', index=False)"
      ]
    },
    {
      "cell_type": "code",
      "execution_count": null,
      "metadata": {},
      "outputs": [],
      "source": [
        "import json\n",
        "import pandas as pd\n",
        "\n",
        "\n",
        "def transform_coco_csv2():\n",
        "    # Load the JSON file\n",
        "    with open('coco.json') as f:\n",
        "        data = json.load(f)\n",
        "\n",
        "    # Initialize an empty list to store the data\n",
        "    csv_list = []\n",
        "\n",
        "    # Loop through the annotations\n",
        "    for annotation in data['annotations']:\n",
        "        image_id = annotation['image_id']\n",
        "        category_id = annotation['category_id']\n",
        "        bbox = annotation['bbox']  # [xmin, ymin, width, height]\n",
        "\n",
        "        # Convert COCO bbox format to [xmin, ymin, xmax, ymax]\n",
        "        xmin, ymin, width, height = bbox\n",
        "        xmax = xmin + width\n",
        "        ymax = ymin + height\n",
        "\n",
        "        # Append the data to the list\n",
        "        csv_list.append([image_id, category_id, xmin, ymin, xmax, ymax])\n",
        "\n",
        "    # Convert the list to a DataFrame\n",
        "    column_names = ['image_id', 'category_id', 'xmin', 'ymin', 'xmax', 'ymax']\n",
        "    csv_df = pd.DataFrame(csv_list, columns=column_names)\n",
        "\n",
        "    # Convert the DataFrame to a CSV file\n",
        "    csv_df.to_csv('coco.csv', index=False)"
      ]
    },
    {
      "cell_type": "code",
      "execution_count": null,
      "metadata": {},
      "outputs": [],
      "source": [
        "import tensorflow as tf\n",
        "import numpy as np\n",
        "import cv2\n",
        "\n",
        "CLASS_COLOR_MAP = np.random.randint(0, 255, (100, 3))\n",
        "\n",
        "\n",
        "def numpy_bbox_to_image(image,\n",
        "                        bbox_list,\n",
        "                        labels=None,\n",
        "                        scores=None,\n",
        "                        class_name=[],\n",
        "                        config=None):\n",
        "    \"\"\" Numpy function used to display the bbox (target or prediction)\n",
        "    \"\"\"\n",
        "    assert (image.dtype == np.float32 and image.dtype == np.float32\n",
        "            and len(image.shape) == 3)\n",
        "\n",
        "    if config is not None and config.normalized_method == \"torch_resnet\":\n",
        "        channel_avg = np.array([0.485, 0.456, 0.406])\n",
        "        channel_std = np.array([0.229, 0.224, 0.225])\n",
        "        image = (image * channel_std) + channel_avg\n",
        "        image = (image * 255).astype(np.uint8)\n",
        "    elif config is not None and config.normalized_method == \"tf_resnet\":\n",
        "        image = image + mean\n",
        "        image = image[..., ::-1]\n",
        "        image = image / 255\n",
        "\n",
        "    bbox_xcycwh = bbox.np_rescale_bbox_xcycwh(bbox_list,\n",
        "                                              (image.shape[0], image.shape[1]))\n",
        "    bbox_x1y1x2y2 = bbox.np_xcycwh_to_xy_min_xy_max(bbox_xcycwh)\n",
        "\n",
        "    # Set the labels if not defined\n",
        "    if labels is None: labels = np.zeros((bbox_x1y1x2y2.shape[0]))\n",
        "\n",
        "    bbox_area = []\n",
        "    # Go through each bbox\n",
        "    for b in range(0, bbox_x1y1x2y2.shape[0]):\n",
        "        x1, y1, x2, y2 = bbox_x1y1x2y2[b]\n",
        "        bbox_area.append((x2 - x1) * (y2 - y1))\n",
        "\n",
        "    # Go through each bbox\n",
        "    for b in np.argsort(bbox_area)[::-1]:\n",
        "        # Take a new color at reandon for this instance\n",
        "        instance_color = np.random.randint(0, 255, (3))\n",
        "\n",
        "        x1, y1, x2, y2 = bbox_x1y1x2y2[b]\n",
        "        x1, y1, x2, y2 = int(x1), int(y1), int(x2), int(y2)\n",
        "        x1, y1, x2, y2 = max(0, x1), max(0,\n",
        "                                         y1), min(image.shape[1],\n",
        "                                                  x2), min(image.shape[0], y2)\n",
        "\n",
        "        # Select the class associated with this bbox\n",
        "        class_id = labels[int(b)]\n",
        "\n",
        "        if scores is not None and len(scores) > 0:\n",
        "            label_name = class_name[int(class_id)]\n",
        "            label_name = \"%s:%.2f\" % (label_name, scores[b])\n",
        "        else:\n",
        "            label_name = class_name[int(class_id)]\n",
        "\n",
        "        class_color = CLASS_COLOR_MAP[int(class_id)]\n",
        "\n",
        "        color = instance_color\n",
        "\n",
        "        multiplier = image.shape[0] / 500\n",
        "        cv2.rectangle(image, (x1, y1),\n",
        "                      (x1 + int(multiplier * 15) * len(label_name), y1 + 20),\n",
        "                      class_color.tolist(), -10)\n",
        "        cv2.putText(image, label_name, (x1 + 2, y1 + 20),\n",
        "                    cv2.FONT_HERSHEY_SIMPLEX, 0.6 * multiplier, (0, 0, 0), 1)\n",
        "        cv2.rectangle(image, (x1, y1), (x2, y2), tuple(class_color.tolist()),\n",
        "                      2)\n",
        "\n",
        "    return image\n"
      ]
    },
    {
      "cell_type": "code",
      "execution_count": null,
      "metadata": {},
      "outputs": [],
      "source": []
    },
    {
      "cell_type": "markdown",
      "metadata": {
        "id": "3RTAPclr-r82"
      },
      "source": [
        "# CSV a TFRecord\n",
        "#### Instalamos la librería de Object Detection de TensorFlow"
      ]
    },
    {
      "cell_type": "code",
      "execution_count": null,
      "metadata": {
        "colab": {
          "base_uri": "https://localhost:8080/"
        },
        "id": "znMOMXV4sRD5",
        "outputId": "3fca8b65-70e2-495c-b829-070aa6fe5390"
      },
      "outputs": [
        {
          "name": "stdout",
          "output_type": "stream",
          "text": [
            "/content\n",
            "/content/models\n",
            "Note: checking out '58d19c67e1d30d905dd5c6e5092348658fed80af'.\n",
            "\n",
            "You are in 'detached HEAD' state. You can look around, make experimental\n",
            "changes and commit them, and you can discard any commits you make in this\n",
            "state without impacting any branches by performing another checkout.\n",
            "\n",
            "If you want to create a new branch to retain commits you create, you may\n",
            "do so (now or later) by using -b with the checkout command again. Example:\n",
            "\n",
            "  git checkout -b <new-branch-name>\n",
            "\n",
            "HEAD is now at 58d19c67 Internal change\n",
            "Get:1 http://security.ubuntu.com/ubuntu bionic-security InRelease [88.7 kB]\n",
            "Get:2 https://cloud.r-project.org/bin/linux/ubuntu bionic-cran40/ InRelease [3,626 B]\n",
            "Ign:3 https://developer.download.nvidia.com/compute/cuda/repos/ubuntu1804/x86_64  InRelease\n",
            "Ign:4 https://developer.download.nvidia.com/compute/machine-learning/repos/ubuntu1804/x86_64  InRelease\n",
            "Get:5 http://ppa.launchpad.net/c2d4u.team/c2d4u4.0+/ubuntu bionic InRelease [15.9 kB]\n",
            "Get:6 https://developer.download.nvidia.com/compute/cuda/repos/ubuntu1804/x86_64  Release [696 B]\n",
            "Hit:7 https://developer.download.nvidia.com/compute/machine-learning/repos/ubuntu1804/x86_64  Release\n",
            "Get:8 https://developer.download.nvidia.com/compute/cuda/repos/ubuntu1804/x86_64  Release.gpg [836 B]\n",
            "Hit:9 http://archive.ubuntu.com/ubuntu bionic InRelease\n",
            "Get:10 http://archive.ubuntu.com/ubuntu bionic-updates InRelease [88.7 kB]\n",
            "Get:11 https://cloud.r-project.org/bin/linux/ubuntu bionic-cran40/ Packages [69.5 kB]\n",
            "Hit:12 http://ppa.launchpad.net/cran/libgit2/ubuntu bionic InRelease\n",
            "Get:13 http://archive.ubuntu.com/ubuntu bionic-backports InRelease [74.6 kB]\n",
            "Get:14 http://ppa.launchpad.net/deadsnakes/ppa/ubuntu bionic InRelease [15.9 kB]\n",
            "Get:15 http://security.ubuntu.com/ubuntu bionic-security/restricted amd64 Packages [632 kB]\n",
            "Hit:16 http://ppa.launchpad.net/graphics-drivers/ppa/ubuntu bionic InRelease\n",
            "Get:17 http://security.ubuntu.com/ubuntu bionic-security/main amd64 Packages [2,398 kB]\n",
            "Get:19 http://security.ubuntu.com/ubuntu bionic-security/universe amd64 Packages [1,434 kB]\n",
            "Get:20 https://developer.download.nvidia.com/compute/cuda/repos/ubuntu1804/x86_64  Packages [785 kB]\n",
            "Get:21 http://ppa.launchpad.net/c2d4u.team/c2d4u4.0+/ubuntu bionic/main Sources [1,810 kB]\n",
            "Get:22 http://archive.ubuntu.com/ubuntu bionic-updates/restricted amd64 Packages [665 kB]\n",
            "Get:23 http://archive.ubuntu.com/ubuntu bionic-updates/main amd64 Packages [2,835 kB]\n",
            "Get:24 http://ppa.launchpad.net/c2d4u.team/c2d4u4.0+/ubuntu bionic/main amd64 Packages [926 kB]\n",
            "Get:25 http://archive.ubuntu.com/ubuntu bionic-updates/universe amd64 Packages [2,213 kB]\n",
            "Get:26 http://ppa.launchpad.net/deadsnakes/ppa/ubuntu bionic/main amd64 Packages [45.3 kB]\n",
            "Fetched 14.1 MB in 4s (3,484 kB/s)\n",
            "Reading package lists... Done\n",
            "Selecting previously unselected package python-bs4.\n",
            "(Reading database ... 155047 files and directories currently installed.)\n",
            "Preparing to unpack .../0-python-bs4_4.6.0-1_all.deb ...\n",
            "Unpacking python-bs4 (4.6.0-1) ...\n",
            "Selecting previously unselected package python-pkg-resources.\n",
            "Preparing to unpack .../1-python-pkg-resources_39.0.1-2_all.deb ...\n",
            "Unpacking python-pkg-resources (39.0.1-2) ...\n",
            "Selecting previously unselected package python-chardet.\n",
            "Preparing to unpack .../2-python-chardet_3.0.4-1_all.deb ...\n",
            "Unpacking python-chardet (3.0.4-1) ...\n",
            "Selecting previously unselected package python-six.\n",
            "Preparing to unpack .../3-python-six_1.11.0-2_all.deb ...\n",
            "Unpacking python-six (1.11.0-2) ...\n",
            "Selecting previously unselected package python-webencodings.\n",
            "Preparing to unpack .../4-python-webencodings_0.5-2_all.deb ...\n",
            "Unpacking python-webencodings (0.5-2) ...\n",
            "Selecting previously unselected package python-html5lib.\n",
            "Preparing to unpack .../5-python-html5lib_0.999999999-1_all.deb ...\n",
            "Unpacking python-html5lib (0.999999999-1) ...\n",
            "Selecting previously unselected package python-lxml:amd64.\n",
            "Preparing to unpack .../6-python-lxml_4.2.1-1ubuntu0.4_amd64.deb ...\n",
            "Unpacking python-lxml:amd64 (4.2.1-1ubuntu0.4) ...\n",
            "Selecting previously unselected package python-olefile.\n",
            "Preparing to unpack .../7-python-olefile_0.45.1-1_all.deb ...\n",
            "Unpacking python-olefile (0.45.1-1) ...\n",
            "Selecting previously unselected package python-pil:amd64.\n",
            "Preparing to unpack .../8-python-pil_5.1.0-1ubuntu0.6_amd64.deb ...\n",
            "Unpacking python-pil:amd64 (5.1.0-1ubuntu0.6) ...\n",
            "Setting up python-pkg-resources (39.0.1-2) ...\n",
            "Setting up python-six (1.11.0-2) ...\n",
            "Setting up python-bs4 (4.6.0-1) ...\n",
            "Setting up python-lxml:amd64 (4.2.1-1ubuntu0.4) ...\n",
            "Setting up python-olefile (0.45.1-1) ...\n",
            "Setting up python-pil:amd64 (5.1.0-1ubuntu0.6) ...\n",
            "Setting up python-webencodings (0.5-2) ...\n",
            "Setting up python-chardet (3.0.4-1) ...\n",
            "Setting up python-html5lib (0.999999999-1) ...\n",
            "Processing triggers for man-db (2.8.3-2ubuntu0.1) ...\n",
            "/content/models/research\n",
            "object_detection/protos/input_reader.proto: warning: Import object_detection/protos/image_resizer.proto but not used.\n"
          ]
        }
      ],
      "source": [
        "import os\n",
        "%cd /content\n",
        "!git clone --quiet https://github.com/tensorflow/models.git\n",
        "%cd /content/models/\n",
        "!git checkout 58d19c67e1d30d905dd5c6e5092348658fed80af\n",
        "!apt-get update && apt-get install -y -qq protobuf-compiler python-pil python-lxml python-tk\n",
        "!pip install -q Cython contextlib2 pillow lxml matplotlib\n",
        "!pip install -q pycocotools\n",
        "%cd /content/models/research\n",
        "!protoc object_detection/protos/*.proto --python_out=.\n",
        "os.environ['PYTHONPATH'] += ':/content/models/research/:/content/models/research/slim/'\n",
        "!python object_detection/builders/model_builder_test.py"
      ]
    },
    {
      "cell_type": "markdown",
      "metadata": {
        "id": "wB8mqfzQ-17x"
      },
      "source": [
        "#### Tomamos el script base y lo modificamos a nuestro caso de uso"
      ]
    },
    {
      "cell_type": "code",
      "execution_count": null,
      "metadata": {
        "colab": {
          "base_uri": "https://localhost:8080/"
        },
        "id": "4mk7xUBexXOH",
        "outputId": "46c0da94-20ba-47d8-93cf-56cf9b61f34f"
      },
      "outputs": [
        {
          "name": "stdout",
          "output_type": "stream",
          "text": [
            "Successfully created the TFRecords: /content/models/research/test.record\n"
          ]
        }
      ],
      "source": [
        "from __future__ import division\n",
        "from __future__ import print_function\n",
        "from __future__ import absolute_import\n",
        "\n",
        "import os\n",
        "import io\n",
        "import pandas as pd\n",
        "import tensorflow as tf\n",
        "import sys\n",
        "sys.path.append(\"../../models/research\")\n",
        "\n",
        "from PIL import Image\n",
        "from object_detection.utils import dataset_util\n",
        "from collections import namedtuple, OrderedDict\n",
        "\n",
        "\n",
        "# Es fundamental remplazar las clases con las mismas clases del proyecto.\n",
        "# Los nombres deben estar escritos exactamente igual.\n",
        "# Si existen más clases en tu proyecto agregarias un ELIF.\n",
        "def class_text_to_int(row_label):\n",
        "    if row_label == \"carro\": \n",
        "      return 1\n",
        "    elif row_label == \"motos\":\n",
        "      return 2\n",
        "    else:\n",
        "        None\n",
        "\n",
        "\n",
        "def split(df, group):\n",
        "    data = namedtuple('data', ['filename', 'object'])\n",
        "    gb = df.groupby(group)\n",
        "    return [data(filename, gb.get_group(x)) for filename, x in zip(gb.groups.keys(), gb.groups)]\n",
        "\n",
        "\n",
        "def create_tf_example(group, path):\n",
        "    with tf.io.gfile.GFile(os.path.join(path, '{}'.format(group.filename)), 'rb') as fid:\n",
        "        encoded_jpg = fid.read()\n",
        "    encoded_jpg_io = io.BytesIO(encoded_jpg)\n",
        "    image = Image.open(encoded_jpg_io)\n",
        "    width, height = image.size\n",
        "\n",
        "    filename = group.filename.encode('utf8')\n",
        "    image_format = b'jpg'\n",
        "    # check if the image format is matching with your images.\n",
        "    xmins = []\n",
        "    xmaxs = []\n",
        "    ymins = []\n",
        "    ymaxs = []\n",
        "    classes_text = []\n",
        "    classes = []\n",
        "\n",
        "    for index, row in group.object.iterrows():\n",
        "        xmins.append(row['xmin'] / width)\n",
        "        xmaxs.append(row['xmax'] / width)\n",
        "        ymins.append(row['ymin'] / height)\n",
        "        ymaxs.append(row['ymax'] / height)\n",
        "        classes_text.append(row['class'].encode('utf8'))\n",
        "        classes.append(class_text_to_int(row['class']))\n",
        "\n",
        "    tf_example = tf.train.Example(features=tf.train.Features(feature={\n",
        "        'image/height': dataset_util.int64_feature(height),\n",
        "        'image/width': dataset_util.int64_feature(width),\n",
        "        'image/filename': dataset_util.bytes_feature(filename),\n",
        "        'image/source_id': dataset_util.bytes_feature(filename),\n",
        "        'image/encoded': dataset_util.bytes_feature(encoded_jpg),\n",
        "        'image/format': dataset_util.bytes_feature(image_format),\n",
        "        'image/object/bbox/xmin': dataset_util.float_list_feature(xmins),\n",
        "        'image/object/bbox/xmax': dataset_util.float_list_feature(xmaxs),\n",
        "        'image/object/bbox/ymin': dataset_util.float_list_feature(ymins),\n",
        "        'image/object/bbox/ymax': dataset_util.float_list_feature(ymaxs),\n",
        "        'image/object/class/text': dataset_util.bytes_list_feature(classes_text),\n",
        "        'image/object/class/label': dataset_util.int64_list_feature(classes),\n",
        "    }))\n",
        "    return tf_example\n",
        "\n",
        "# Modificamos con la ubicación de nuestros archivos. Recuerda tomarte el tiempo \n",
        "# de revisar que la URL sea la misma que la de Google Colab en donde subiste el \n",
        "# archivo de forma manual\n",
        "output_path = \"test.record\"\n",
        "image_dir = \"/content/dataset_original/dataset_original\"\n",
        "csv_input = \"/content/test_labels.csv\"\n",
        "\n",
        "writer = tf.io.TFRecordWriter(output_path)\n",
        "path = os.path.join(image_dir)\n",
        "examples = pd.read_csv(csv_input)\n",
        "grouped = split(examples, 'filename')\n",
        "for group in grouped:\n",
        "    tf_example = create_tf_example(group, path)\n",
        "    writer.write(tf_example.SerializeToString())\n",
        "\n",
        "writer.close()\n",
        "output_path = os.path.join(os.getcwd(), output_path)\n",
        "print('Successfully created the TFRecords: {}'.format(output_path))\n"
      ]
    },
    {
      "cell_type": "code",
      "execution_count": null,
      "metadata": {
        "id": "4NSOWirpyoaj"
      },
      "outputs": [],
      "source": []
    }
  ],
  "metadata": {
    "colab": {
      "collapsed_sections": [],
      "name": "[Clase] json-tfrecord.ipynb",
      "provenance": []
    },
    "kernelspec": {
      "display_name": "Python 3",
      "name": "python3"
    },
    "language_info": {
      "name": "python"
    }
  },
  "nbformat": 4,
  "nbformat_minor": 0
}
